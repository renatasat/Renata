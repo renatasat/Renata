{
 "cells": [
  {
   "cell_type": "markdown",
   "id": "75ba224b",
   "metadata": {
    "toc": true
   },
   "source": [
    "<h1>Table of Contents<span class=\"tocSkip\"></span></h1>\n",
    "<div class=\"toc\"><ul class=\"toc-item\"></ul></div>"
   ]
  },
  {
   "cell_type": "markdown",
   "id": "edbef882",
   "metadata": {},
   "source": [
    "<p style=\"font-size:125%; color:#119988; background-color:#EEE\">Задание 1</p>\n",
    "\n",
    "Создайте словарь *food* продуктов питания, ключами которого являются наименования, а значениями цены. Исходные данные для словаря:\n",
    "```\n",
    "titles=('apples,grape,bananas,watermelons,tomatoes'.split(','))\n",
    "prices=(20,25,15,11,15)\n",
    "```\n",
    "Алгоритм решения:\n",
    "1) Создаём словарь food, где ключами являются названия продуктов питания\n",
    "2) Затем выводи на экран наш словарь, где есть наименование продукта и его цена"
   ]
  },
  {
   "cell_type": "code",
   "execution_count": 14,
   "id": "7befff06",
   "metadata": {},
   "outputs": [
    {
     "name": "stdout",
     "output_type": "stream",
     "text": [
      "{'apples': 20, 'grape': 25, 'bananas': 15, 'watermelons': 11, 'tomatoes': 15}\n"
     ]
    }
   ],
   "source": [
    "# 1\n",
    "\n",
    "titles=('apples,grape,bananas,watermelons,tomatoes'.split(','))\n",
    "prices=(20,25,15,11,15)\n",
    "food ={\n",
    "    \"apples\":20,\n",
    "    \"grape\":25,\n",
    "    \"bananas\":15,\n",
    "    \"watermelons\":11,\n",
    "    \"tomatoes\":15\n",
    "}\n",
    "print(food)"
   ]
  },
  {
   "cell_type": "markdown",
   "id": "815e7957",
   "metadata": {},
   "source": [
    "<p style=\"font-size:125%; color:#119988; background-color:#EEE\">Задание 2</p>\n",
    "\n",
    "Удалите из словаря *food* арбузы (watermelons) и добавьте дыни (melons) по той же цене.\n",
    "\n",
    "Алгоритм решения:\n",
    "1) Создаём словарь food, где ключами являются названия продуктов питания\n",
    "2) Чтобы удалить продукт из словаря, используем ключевое слово-del, после чего название словаря. В квадратных скобках следом за словарем идёт ключ элемента, который требуется удалить\n",
    "3) Чтобы добавить новый продукт, но сохрнанить цену,для этого нужно написать в квадратных скобках следом за словарем идёт ключ нового элемента, а затем значение цены в \" \""
   ]
  },
  {
   "cell_type": "code",
   "execution_count": 18,
   "id": "50964e18",
   "metadata": {},
   "outputs": [
    {
     "name": "stdout",
     "output_type": "stream",
     "text": [
      "{'apples': 20, 'grape': 25, 'bananas': 15, 'tomatoes': 15, 'melon': '11'}\n"
     ]
    }
   ],
   "source": [
    "# 2\n",
    "food ={\n",
    "    \"apples\":20,\n",
    "    \"grape\":25,\n",
    "    \"bananas\":15,\n",
    "    \"watermelons\":11,\n",
    "    \"tomatoes\":15\n",
    "}\n",
    "del food[\"watermelons\"]#удаляем арбузы\n",
    "food [\"melon\"]=\"11\"#добавляем дыни\n",
    "print(food)"
   ]
  },
  {
   "cell_type": "markdown",
   "id": "09da5372",
   "metadata": {},
   "source": [
    "<p style=\"font-size:125%; color:#119988; background-color:#EEE\">Задание 3</p>\n",
    "\n",
    "Все цены снижены на 15%. Обновите словарь продуктов.\n",
    "\n",
    "Алгоритм решения:\n",
    "1) Создаём словарь food, где ключами являются названия продуктов питания\n",
    "2) С помощью цикла for проходим по каждому продукту в словаре food\n",
    "3) Затем обновляем цену каждого продукта, умножая исходное значение на 0.85, чтобы снизить ее на 15% (100%-15%=85%,переводим из процентов в обычное число)"
   ]
  },
  {
   "cell_type": "code",
   "execution_count": 19,
   "id": "b88d99a1",
   "metadata": {},
   "outputs": [
    {
     "name": "stdout",
     "output_type": "stream",
     "text": [
      "{'apples': 17.0, 'grape': 21.25, 'bananas': 12.75, 'watermelons': 9.35, 'tomatoes': 12.75}\n"
     ]
    }
   ],
   "source": [
    "# 3\n",
    "food ={\n",
    "    \"apples\":20,\n",
    "    \"grape\":25,\n",
    "    \"bananas\":15,\n",
    "    \"watermelons\":11,\n",
    "    \"tomatoes\":15\n",
    "}\n",
    "for product in food:\n",
    "    food[product]=food[product]*0.85\n",
    "print(food)"
   ]
  },
  {
   "cell_type": "markdown",
   "id": "ea04b336",
   "metadata": {},
   "source": [
    "<p style=\"font-size:125%; color:#119988; background-color:#EEE\">Задание 4</p>\n",
    "\n",
    "Поменяйте местами цены и названия, пусть ключами словаря станут цены, а значениями - названия. Изменилось ли при этом количество элементов словаря? Если да, то объясните, почему.\n",
    "\n",
    "Алгоритм решения:\n",
    "1) Создаём словарь food,изменяя ключи и значения местами,где цены становятся ключами, а названия продуктов-значениями"
   ]
  },
  {
   "cell_type": "code",
   "execution_count": 20,
   "id": "968cf531",
   "metadata": {},
   "outputs": [
    {
     "name": "stdout",
     "output_type": "stream",
     "text": [
      "{20: 'apples', 25: 'grape', 15: 'tomatoes', 11: 'watermelons'}\n"
     ]
    }
   ],
   "source": [
    "# 4\n",
    "food ={\n",
    "    20: \"apples\",\n",
    "    25: \"grape\",\n",
    "    15: \"bananas\",\n",
    "    11: \"watermelons\",\n",
    "    15: \"tomatoes\"\n",
    "}\n",
    "print(food)\n",
    "#Ответ на вопрос: количество элементов в словаре не изменяются, так как в словаре каждому ключу соответствует уникальное значение"
   ]
  },
  {
   "cell_type": "markdown",
   "id": "ef49adb3",
   "metadata": {},
   "source": [
    "<p style=\"font-size:125%; color:#119988; background-color:#EEE\">Задание 5</p>\n",
    "\n",
    "Напишите функцию, возвращающую максимальную степень некоторого натурального числа $k$ (например $k=2$), меньшую данного натурального числа $n$. Пусть $k$ и $n$ будут параметрами функции.\n",
    "\n",
    "Алгоритм решения:\n",
    "1) Создаём функцию def maxpow(), где параметры k и n предоставляют собой натуральные числа\n",
    "2) Цикл while,внутри функции,используется пока k в степени power меньше n, значение power увеличивается на 1. Затем выходим из цикла и значение power уменьшается на 1(это нужно, чтобы получить максимальную степень k,меньшую n)\n",
    "3) Выводим результат на экран"
   ]
  },
  {
   "cell_type": "code",
   "execution_count": 22,
   "id": "a56f047a",
   "metadata": {},
   "outputs": [
    {
     "name": "stdout",
     "output_type": "stream",
     "text": [
      "Результат:  3\n"
     ]
    }
   ],
   "source": [
    "# 5\n",
    "def maxpow(k,n):\n",
    "    power=0\n",
    "    while k**power<n:\n",
    "        power +=1\n",
    "    return power-1\n",
    "k=2\n",
    "n=10\n",
    "result=maxpow(k,n)\n",
    "print(\"Результат: \",result)"
   ]
  },
  {
   "cell_type": "markdown",
   "id": "dafc63f5",
   "metadata": {},
   "source": [
    "<p style=\"font-size:125%; color:#119988; background-color:#EEE\">Задание 6</p>\n",
    "\n",
    "Создайте функцию, возвращающую ряд Фибоначчи до определенного натурального числа $n$.\n",
    "\n",
    "Алгоритм решения:\n",
    "1) Создаём функцию def fibonacci(), где параметр n представляет собой натуральное число\n",
    "2) Задаём условия, если n больше или равно 1, то добавляет 0 в ряд, а если n больше или равно 2, то добавляет 1 в ряд (Append() добавляет в конец списка элемент, переданный ему в качестве аргумента. Вызывается чрез оператор .(точка))\n",
    "3) В цикле while в функции происходит дополнения чисел в ряд, пока сумма 2-х последних чисел ряда не превышает или равна n\n",
    "4) Выводим результат на экран"
   ]
  },
  {
   "cell_type": "code",
   "execution_count": 2,
   "id": "de7f401f",
   "metadata": {},
   "outputs": [
    {
     "name": "stdout",
     "output_type": "stream",
     "text": [
      "Натуральное число: 100\n",
      "[0, 1, 1, 2, 3, 5, 8, 13, 21, 34, 55, 89]\n"
     ]
    }
   ],
   "source": [
    "# 6\n",
    "def fibonacci(n):\n",
    "    series = []#пустой список\n",
    "    if n>=1:\n",
    "        series.append(0)\n",
    "    if n>=2:\n",
    "        series.append(1)\n",
    "    while series[-1]+series[-2] <= n:\n",
    "        series.append(series[-1]+series[-2])\n",
    "    return series\n",
    "n=int(input(\"Натуральное число: \"))\n",
    "result=fibonacci(n)\n",
    "print(result)"
   ]
  },
  {
   "cell_type": "markdown",
   "id": "119e660a",
   "metadata": {},
   "source": [
    "<p style=\"font-size:125%; color:#119988; background-color:#EEE\">Задание 7</p>\n",
    "\n",
    "Создайте рекурсивную функцию, возвращающую ряд Фибоначчи до определенного натурального числа $n$.\n",
    "\n",
    "Алгоритм решения:\n",
    "1) Создаём функцию def fibonacci(), где есть четыре параметра: n, a, b и series. Параметры a, b и series имеют значения по умолчанию, a=0, b=1, series=None.\n",
    "2) Следующая строка if series is None: проверяет, является ли значения параметра series равным None.\n",
    "3) Если значение параметра series равно None, то следующей строкой series = [] создается пустой список, который будет использоваться для сохранения последовательности чисел Фибоначчи.\n",
    "4) Следующая строка if a > n: проверяет, превышает ли текущее число a значение n, до которого нужно генерировать числа Фибоначчи. Если текущее число a превышает значение n, то возвращается список series, содержащий все числа Фибоначчи, которые были сгенерированы до этого момента.\n",
    "5) Append() добавляет в конец списка элемент, переданный ему в качестве аргумента. Вызывается чрез оператор .(точка).  В другом случае series добавляется к текущему числу a с помощью series.append(a).\n",
    "6) Затем функция вызывает саму себя с новыми значениями параметров b и a + b и уже измененным списком series.\n",
    "7) Вывод результат на экран"
   ]
  },
  {
   "cell_type": "code",
   "execution_count": 3,
   "id": "31838c27",
   "metadata": {},
   "outputs": [
    {
     "name": "stdout",
     "output_type": "stream",
     "text": [
      "Введите натуральное число: 50\n",
      "[0, 1, 1, 2, 3, 5, 8, 13, 21, 34]\n"
     ]
    }
   ],
   "source": [
    "# 7\n",
    "def fibonacci(n, a=0, b=1, series=None):\n",
    "    if series is None:\n",
    "        series = []\n",
    "    if a > n:\n",
    "        return series\n",
    "    series.append(a)\n",
    "    return fibonacci(n, b, a + b, series)\n",
    "n=int(input(\"Введите натуральное число: \"))\n",
    "result = fibonacci(n)\n",
    "print(result)"
   ]
  },
  {
   "cell_type": "markdown",
   "id": "ec8400ea",
   "metadata": {},
   "source": [
    "<p style=\"font-size:125%; color:#119988; background-color:#EEE\">Задание 8</p>\n",
    "\n",
    "Создайте функцию, которая проверяет, является ли число членом ряда Фибоначчи.\n",
    "\n",
    "Алгоритм решения:\n",
    "1) Создаём функцию def fibonacci(), где параметр n представляет собой число, которое нужно проверить на принадлежность к ряду Фибоначчи\n",
    "2) Функция возвращает значение True, если число является членом ряда Фибоначчи (если n меньше или равно 1, то возвращается True, так как 0 и 1 являются членами ряда Фибоначчи)\n",
    "3) Затем с помощью цикла while проводится повторение через ряд Фибоначчи, начиная с a=0 и b=1. Цикл продолжается, пока следующее число b меньше чем n. Если нашлось число b, равное n, то возвращается True, в противном случае возвращается False\n",
    "4) Выводим результат"
   ]
  },
  {
   "cell_type": "code",
   "execution_count": 8,
   "id": "a8715c73",
   "metadata": {},
   "outputs": [
    {
     "name": "stdout",
     "output_type": "stream",
     "text": [
      "Число: 55\n",
      "True\n"
     ]
    }
   ],
   "source": [
    "# 8\n",
    "def fibonacci(n):\n",
    "    if n <=1:\n",
    "        return True\n",
    "    a,b = 0,1\n",
    "    while b < n:\n",
    "        temp = a\n",
    "        a = b\n",
    "        b = temp + b\n",
    "    return b == n\n",
    "n=int(input(\"Число: \"))\n",
    "result=fibonacci(n)\n",
    "print(result)"
   ]
  },
  {
   "cell_type": "markdown",
   "id": "eed2994e",
   "metadata": {},
   "source": [
    "<p style=\"font-size:125%; color:#119988; background-color:#EEE\">Задание 9</p>\n",
    "\n",
    "Студентка Александра родилась 11 июня 2003 года в 12 часов дня. Рассчитать время в минутах с момента рождения.\n",
    "\n",
    "Алгоритм решения:\n",
    "1) Используем модуль datetime, который позволяет работать с датой и временем\n",
    "2) Создаётся объект birth_date типа datetime, указывая дату и время\n",
    "3) Получаем текущую дату и время с помощью функции now() модуля datetime\n",
    "4) Затем вычисляем разницу между текущим временем и временем рождения, используя операцию вычитания. Преобразуем объект timedate в минуты,разделив его общее количество секунд на 60\n",
    "5) Выводим результат, используя функцию print()"
   ]
  },
  {
   "cell_type": "code",
   "execution_count": 2,
   "id": "6d81786f",
   "metadata": {},
   "outputs": [
    {
     "name": "stdout",
     "output_type": "stream",
     "text": [
      "Рассчёт время в минутах с момента рождения:  10717723.48150125\n"
     ]
    }
   ],
   "source": [
    "# 9\n",
    "from datetime import datetime\n",
    "birth_date = datetime (2003, 6, 11, 12, 0)\n",
    "cur_datetime = datetime.now()\n",
    "minutes_since_birth = (cur_datetime-birth_date).total_seconds()/60\n",
    "print(\"Рассчёт время в минутах с момента рождения: \", minutes_since_birth)"
   ]
  }
 ],
 "metadata": {
  "kernelspec": {
   "display_name": "Python 3 (ipykernel)",
   "language": "python",
   "name": "python3"
  },
  "language_info": {
   "codemirror_mode": {
    "name": "ipython",
    "version": 3
   },
   "file_extension": ".py",
   "mimetype": "text/x-python",
   "name": "python",
   "nbconvert_exporter": "python",
   "pygments_lexer": "ipython3",
   "version": "3.11.4"
  },
  "toc": {
   "base_numbering": 1,
   "nav_menu": {},
   "number_sections": true,
   "sideBar": true,
   "skip_h1_title": false,
   "title_cell": "Table of Contents",
   "title_sidebar": "Contents",
   "toc_cell": true,
   "toc_position": {},
   "toc_section_display": true,
   "toc_window_display": false
  },
  "varInspector": {
   "cols": {
    "lenName": 16,
    "lenType": 16,
    "lenVar": 40
   },
   "kernels_config": {
    "python": {
     "delete_cmd_postfix": "",
     "delete_cmd_prefix": "del ",
     "library": "var_list.py",
     "varRefreshCmd": "print(var_dic_list())"
    },
    "r": {
     "delete_cmd_postfix": ") ",
     "delete_cmd_prefix": "rm(",
     "library": "var_list.r",
     "varRefreshCmd": "cat(var_dic_list()) "
    }
   },
   "types_to_exclude": [
    "module",
    "function",
    "builtin_function_or_method",
    "instance",
    "_Feature"
   ],
   "window_display": false
  }
 },
 "nbformat": 4,
 "nbformat_minor": 5
}
