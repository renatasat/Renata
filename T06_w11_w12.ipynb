{
 "cells": [
  {
   "cell_type": "markdown",
   "metadata": {
    "toc": true
   },
   "source": [
    "<h1>Table of Contents<span class=\"tocSkip\"></span></h1>\n",
    "<div class=\"toc\"><ul class=\"toc-item\"><li><span><a href=\"#Обработка-и-анализ-данных-в-Numpy-массивах\" data-toc-modified-id=\"Обработка-и-анализ-данных-в-Numpy-массивах-1\"><span class=\"toc-item-num\">1&nbsp;&nbsp;</span>Обработка и анализ данных в Numpy-массивах</a></span></li></ul></div>"
   ]
  },
  {
   "cell_type": "markdown",
   "metadata": {},
   "source": [
    "\n",
    "\n",
    "\n",
    "# Обработка и анализ данных в Numpy-массивах"
   ]
  },
  {
   "cell_type": "markdown",
   "metadata": {},
   "source": [
    "<p style=\"font-size:125%; color:#119988; background-color:#EEE\">Задание 1</p>\n",
    "\n",
    "Дано: списки `a,b=[1,1,1],[3,3,3]`\n",
    "\n",
    "Создать одномерные массивы A и B из списков а и b.\n",
    "\n",
    "Вычислить выражение $-((B-А)*(B/2))$"
   ]
  },
  {
   "cell_type": "code",
   "execution_count": 11,
   "metadata": {},
   "outputs": [],
   "source": [
    "import numpy as np"
   ]
  },
  {
   "cell_type": "code",
   "execution_count": 21,
   "metadata": {},
   "outputs": [
    {
     "name": "stdout",
     "output_type": "stream",
     "text": [
      "[1 1 1]\n",
      "[3 3 3]\n",
      "Результат вычисления:  -9.0\n"
     ]
    }
   ],
   "source": [
    "A = np.array((1, 1, 1))\n",
    "print (A)\n",
    "B = np.array((3, 3, 3))\n",
    "print (B)\n",
    "n = np.subtract(B, A)\n",
    "k = np.divide(B, 2)\n",
    "l = np.transpose(k)\n",
    "m = np.multiply(n,l)\n",
    "f = m[0]+m[1]+m[2]\n",
    "print (\"Результат вычисления: \",-f)"
   ]
  },
  {
   "cell_type": "markdown",
   "metadata": {},
   "source": [
    "<p style=\"font-size:125%; color:#119988; background-color:#EEE\">Задание 2</p>\n",
    "\n",
    "Используя как можно меньше операций в исходном массиве \"шахматная доска\" np.zeros((8,8)), добиться расстановки кодов \"шахматных фигур\".\n",
    "\n",
    "Ожидаемый результат:\n",
    "```\n",
    "[[-4., -3., -2., -6., -5., -2., -3., -4.],\n",
    " [-1., -1., -1., -1., -1., -1., -1., -1.],\n",
    " [0., 0., 0., 0., 0., 0., 0., 0.],\n",
    " [0., 0., 0., 0., 0., 0., 0., 0.],\n",
    " [0., 0., 0., 0., 0., 0., 0., 0.],\n",
    " [0., 0., 0., 0., 0., 0., 0., 0.],\n",
    " [1., 1., 1., 1., 1., 1., 1., 1.],\n",
    " [4., 3., 2., 6., 5., 2., 3., 4.]]\n",
    " ```"
   ]
  },
  {
   "cell_type": "code",
   "execution_count": 28,
   "metadata": {},
   "outputs": [
    {
     "name": "stdout",
     "output_type": "stream",
     "text": [
      "Результат:  [[-4. -3. -2. -6. -5. -2. -3. -4.]\n",
      " [-1. -1. -1. -1. -1. -1. -1. -1.]\n",
      " [ 0.  0.  0.  0.  0.  0.  0.  0.]\n",
      " [ 0.  0.  0.  0.  0.  0.  0.  0.]\n",
      " [ 0.  0.  0.  0.  0.  0.  0.  0.]\n",
      " [ 0.  0.  0.  0.  0.  0.  0.  0.]\n",
      " [ 1.  1.  1.  1.  1.  1.  1.  1.]\n",
      " [ 4.  3.  2.  6.  5.  2.  3.  4.]]\n"
     ]
    }
   ],
   "source": [
    "import numpy as np\n",
    "M = np.zeros((8,8))\n",
    "M[0] = [-4, -3, -2, -6, -5, -2, -3, -4]\n",
    "M[1] = [-1, -1, -1, -1, -1, -1, -1, -1]\n",
    "M[6] = [1, 1, 1, 1, 1, 1, 1, 1]\n",
    "M[7] = [4, 3, 2, 6, 5, 2, 3, 4]\n",
    "print(\"Результат: \",M)"
   ]
  },
  {
   "cell_type": "markdown",
   "metadata": {},
   "source": [
    "<p style=\"font-size:125%; color:#119988; background-color:#EEE\">Задание 3</p>\n",
    "\n",
    "Средствами NumPy рассчитать произведения четных чисел от 2 до 20 на ближайшие к ним бОльшие нечетные числа"
   ]
  },
  {
   "cell_type": "code",
   "execution_count": 2,
   "metadata": {},
   "outputs": [
    {
     "name": "stdout",
     "output_type": "stream",
     "text": [
      "[  6  20  42  72 110 156 210 272 342 420]\n"
     ]
    }
   ],
   "source": [
    "import numpy as np\n",
    "Mass = np.arange (2, 21, 2)\n",
    "NMass = Mass + 1\n",
    "result = Mass * NMass\n",
    "print(result)"
   ]
  },
  {
   "cell_type": "markdown",
   "metadata": {},
   "source": [
    "<p style=\"font-size:125%; color:#119988; background-color:#EEE\">Задание 4</p>\n",
    "\n",
    "Сгенерировать двумерный массив *arr* размерности (4, 7), состоящий из случайных действительных чисел, равномерно распределенных в дипазоне от 0 до 20. Нормализовать значения массива так, что после нормализации максимальный элемент масива будет равен 1.0, минимальный 0.0. Значения округлить (с помощью `np.round()`) до четырех десятичных знаков."
   ]
  },
  {
   "cell_type": "code",
   "execution_count": 5,
   "metadata": {},
   "outputs": [
    {
     "name": "stdout",
     "output_type": "stream",
     "text": [
      "[[0.9218 1.     0.5865 0.9168 0.7084 0.014  0.843 ]\n",
      " [0.2771 0.2212 0.6972 0.7876 0.1184 0.0396 0.2997]\n",
      " [0.114  0.1028 0.4686 0.5662 0.1946 0.9813 0.0613]\n",
      " [0.0562 0.9355 0.429  0.     0.4625 0.3331 0.9703]]\n"
     ]
    }
   ],
   "source": [
    "# 4. Ваш код здесь\n",
    "import numpy as np\n",
    "arr = np.random.uniform (0, 20, size = (4, 7))\n",
    "arr_normalized = (arr - np.min(arr)) / (np.max(arr) - np.min(arr))\n",
    "arr_rounded = np.round (arr_normalized, decimals = 4)\n",
    "print(arr_rounded)"
   ]
  },
  {
   "cell_type": "markdown",
   "metadata": {},
   "source": [
    "<p style=\"font-size:125%; color:#119988; background-color:#EEE\">Задание 5</p>\n",
    "\n",
    "5. Имеется массив my_array\n",
    "```\n",
    "my_array = np.array([[1,2,3,4,5],\n",
    "                [6,7,8,9,10],\n",
    "                [11,12,13,14,15],\n",
    "                [16,17,18,19,20],\n",
    "                [21,22,23,24,25]])\n",
    "```\n",
    "Напишите код, с помощью которого можно извлечь из него центральный фрагмент размером 3 х 3, с числами 7, 8, 9, 12, 13, 14, 17, 18, 19.\n",
    "\n",
    "Алгоритм решения:\n",
    "1) my_array [1:4,1:4] указывает на то, что берутся строки с индексами от 1 до 4 (не включая 4) и столбцы с индексами от 1 до 4 (не включая), что соответствует центральному фрагменту массива с размером 3х3"
   ]
  },
  {
   "cell_type": "code",
   "execution_count": 6,
   "metadata": {},
   "outputs": [
    {
     "name": "stdout",
     "output_type": "stream",
     "text": [
      "[[ 7  8  9]\n",
      " [12 13 14]\n",
      " [17 18 19]]\n"
     ]
    }
   ],
   "source": [
    "# 5. Ваш код здесь\n",
    "import numpy as np\n",
    "my_array = np.array([[1,2,3,4,5],\n",
    "             [6,7,8,9,10],\n",
    "             [11,12,13,14,15],\n",
    "             [16,17,18,19,20],\n",
    "             [21,22,23,24,25]])\n",
    "#Извлекаем центральный фрагмент размером 3х3\n",
    "center_fragment = my_array [1:4,1:4]\n",
    "print(center_fragment)"
   ]
  },
  {
   "cell_type": "markdown",
   "metadata": {},
   "source": [
    "<p style=\"font-size:125%; color:#119988; background-color:#EEE\">Задание 6</p>\n",
    "\n",
    "Создайте массив *my_sin*, состоящий из синусов элементов массива *my_array*.\n",
    "Посчитайте, чему равна сумма элементов полученного массива. Ответ округлите до\n",
    "трёх цифр после запятой.\n",
    "\n",
    "Алгоритм решения:\n",
    "1) Задаём массив\n",
    "2) Строка my_sin = np.sin(my_array) используется для применения функции синуса np.sin к каждому элементу массива my_array\n",
    "3) Потом, с помощью функции np.sum, вычисляется сумма всех элементов массива my_sin и сохраняется в переменную sum_sin\n",
    "4) В конце, с помощью функции np.round, округляем значение sum_sin и до трех цифр после запятой"
   ]
  },
  {
   "cell_type": "code",
   "execution_count": 7,
   "metadata": {},
   "outputs": [
    {
     "name": "stdout",
     "output_type": "stream",
     "text": [
      "1.936\n"
     ]
    }
   ],
   "source": [
    "# 6. Ваш код здесь\n",
    "import numpy as np\n",
    "my_array = np.array([[1,2,3,4,5],\n",
    "             [6,7,8,9,10],\n",
    "             [11,12,13,14,15]])\n",
    "#Создаём массива, состоящего из синусов элементов my_array\n",
    "my_sin = np.sin(my_array)\n",
    "#Сумма элементов массива my_array\n",
    "sum_sin = np.sum(my_sin)\n",
    "#Округление ответа до трех цифр после занятой\n",
    "rounded_sum = np.round(sum_sin, decimals = 3)\n",
    "print(rounded_sum)"
   ]
  },
  {
   "cell_type": "markdown",
   "metadata": {},
   "source": [
    "<p style=\"font-size:125%; color:#119988; background-color:#EEE\">Задание 7</p>\n",
    "\n",
    "Создать матрицу из 20 случайных целых чисел от 0 до 100. Получить второе сверху значение в матрице. Определить индекс этого значения.\n",
    "\n",
    "Алгоритм решения:\n",
    "1) Создаём пустое матрицу размером 4х5, инициализируя каждый элемент значением 0\n",
    "2) Внешний цикл for выполняется 5 раз (для строк матрицы), внутренний цикл for выполняется 4 раза (для столбцов матрицы), затем получаем случайные числа с помощью функции random.randint(0,100)\n",
    "3) Используем цикл for для перебора строк матрицы, затем выводим с помощью функции print()\n",
    "4) [::-1] в обратном порядке по убыванию \n",
    "5) axis(параметр метода) =None: провести сортировку по всему массиву в целом, а не по какой-то конкретной оси "
   ]
  },
  {
   "cell_type": "code",
   "execution_count": 17,
   "metadata": {},
   "outputs": [
    {
     "name": "stdout",
     "output_type": "stream",
     "text": [
      "Матрица: \n",
      "[34, 90, 45, 4]\n",
      "[16, 77, 48, 100]\n",
      "[79, 90, 64, 81]\n",
      "[24, 77, 35, 92]\n",
      "[61, 53, 8, 25]\n",
      "\n",
      "Второе сверху значение:  92\n",
      "Индекс этого значения:  (array([3], dtype=int64), array([3], dtype=int64))\n"
     ]
    }
   ],
   "source": [
    "# 7. Ваш код здесь\n",
    "import numpy as np\n",
    "import random\n",
    "#Создаем пустой матрицы размером 4х5\n",
    "matrix = [[0 for _ in range(4)]for _ in range(5)]\n",
    "#Заполнение матрицы случайными целыми числами \n",
    "for i in range(5):\n",
    "    for j in range(4):\n",
    "        matrix[i][j] = random.randint(0,100)\n",
    "#Вывод матрицы на экран\n",
    "print(\"Матрица: \")\n",
    "for row in matrix:\n",
    "    print(row)\n",
    "#Отсортировка \n",
    "sorted_matrix = np.sort(matrix, axis=None)[::-1]\n",
    "#Получение второго сверху значения в матрице\n",
    "second_value = sorted_matrix[1]\n",
    "#Определение индекса этого значения\n",
    "second_index = np.where (matrix == second_value)\n",
    "print(\"\\nВторое сверху значение: \",second_value)\n",
    "print(\"Индекс этого значения: \",second_index)"
   ]
  },
  {
   "cell_type": "markdown",
   "metadata": {},
   "source": [
    "<p style=\"font-size:125%; color:#119988; background-color:#EEE\">Задание 8</p>\n",
    "\n",
    "Задать два двухмерных массива *ar1* и *ar2* размерности (4, 7), состоящих из случайных целых чисел в пределах от 0 до 10. Построить двухмерный массив размерности (4, 7), каждый элемент которого представляет собой максимум (минимум, среднее) из двух значений, находящихся на аналогичной позиции в массивах *ar1*, *ar2*.\n",
    "\n",
    "Алгоритм решения:\n",
    "1) Создаём два рандомных массива \n",
    "2) Печатем, округляя до двух знаков после запятой \n",
    "3) Создаётся третий массив, состоящий из нулей\n",
    "4) Вводится счётчик для строк, в цикле мы идём по строкам,аналогично со столбцами. Затем мы берём и записываем в наш нулевой массив значения полученные с помощью функции\n",
    "5) В функцию передаются массивы и номера операторов "
   ]
  },
  {
   "cell_type": "code",
   "execution_count": 18,
   "metadata": {},
   "outputs": [
    {
     "name": "stdout",
     "output_type": "stream",
     "text": [
      "ar1:\n",
      " [[0.99 2.09 4.23 6.23 3.26 6.92 2.97]\n",
      " [5.78 7.68 8.84 3.31 5.28 4.37 7.78]\n",
      " [9.07 8.11 6.44 6.46 9.7  3.37 8.46]\n",
      " [7.92 9.37 6.41 8.58 2.28 8.68 8.51]]\n",
      "\n",
      "ar2:\n",
      " [[2.66 3.86 0.33 3.41 6.38 7.86 6.51]\n",
      " [8.35 3.08 5.55 4.8  2.76 2.87 9.39]\n",
      " [5.11 5.75 2.66 2.62 6.43 2.26 3.86]\n",
      " [3.97 7.54 7.24 8.02 8.72 8.11 2.51]]\n",
      "\n",
      "Введите номер операции для заполнения массива (1 - максимум, 2 - минимум, 3 - среднее): 2\n",
      "\n",
      "ar3: [[0.99 2.09 0.33 3.41 3.26 6.92 2.97]\n",
      " [5.78 3.08 5.55 3.31 2.76 2.87 7.78]\n",
      " [5.11 5.75 2.66 2.62 6.43 2.26 3.86]\n",
      " [3.97 7.54 6.41 8.02 2.28 8.11 2.51]]\n"
     ]
    }
   ],
   "source": [
    "# 8. Ваш код здесь\n",
    "def CreateMatrix(array1, array2, operator):\n",
    "    result = np.zeros((4,7))\n",
    "    if operator == \"1\":\n",
    "        result = max(array1,array2)\n",
    "    elif operator == \"2\":\n",
    "        result = min(array1,array2)\n",
    "    elif operator == \"3\":\n",
    "        result = np.add(array1,array2)/2\n",
    "    return result\n",
    "    \n",
    "\n",
    "\n",
    "ar1 = np.random.uniform(low=0, high=10, size=(4, 7))\n",
    "ar2 = np.random.uniform(low=0, high=10, size=(4, 7))\n",
    "\n",
    "print(\"ar1:\\n\",np.round(ar1,decimals = 2))\n",
    "print(\"\\nar2:\\n\",np.round(ar2,decimals = 2))\n",
    "\n",
    "ar3 = np.zeros((4,7))\n",
    "\n",
    "oper = input(\"\\nВведите номер операции для заполнения массива (1 - максимум, 2 - минимум, 3 - среднее): \")\n",
    "\n",
    "\n",
    "i = 0\n",
    "while i < 4:\n",
    "    j = 0\n",
    "    while j < 7:\n",
    "        ar3[i][j] = CreateMatrix(ar1[i][j],ar2[i][j],oper)\n",
    "        j += 1\n",
    "    i +=1\n",
    "\n",
    "print(\"\\nar3:\", np.round(ar3,decimals = 2))\n"
   ]
  },
  {
   "cell_type": "markdown",
   "metadata": {},
   "source": [
    "<p style=\"font-size:125%; color:#119988; background-color:#EEE\">Задание 9</p>\n",
    "\n",
    "Имеется массив *great_array*\n",
    "```\n",
    "first = [x**(1/2) for x in range(100)]\n",
    "second = [x**(1/3) for x in range(100, 200)]\n",
    "third = [x/y for x in range(200,300,2) for y in [3,5]]\n",
    "great_array = np.array([first, second, third]).T\n",
    "```\n",
    "Чему равна сумма элементов массива great_array, значение которых больше 50?\n",
    "\n",
    "Алгоритм решения: \n",
    "1) great_array[great_array>50]: создает булев массив той же формы, что и great_array, где элементы, удовлетворяющие условию больше 50, будут равны True, а остальные элементы будут равны False.\n",
    "great_array[great_array > 50] использует этот булев массив в качестве маски для выбора элементов из great_array, которые удовлетворяют условию больше 50. Таким образом, мы получим одномерный массив только из элементов, которые больше 50."
   ]
  },
  {
   "cell_type": "code",
   "execution_count": 6,
   "metadata": {},
   "outputs": [
    {
     "name": "stdout",
     "output_type": "stream",
     "text": [
      "Сумма элементов массива, значение которых больше 50:  5470.0\n"
     ]
    }
   ],
   "source": [
    "#9 Ваш код здесь\n",
    "import numpy as np\n",
    "first = [x**(1/2) for x in range(100)]\n",
    "second = [x**(1/3) for x in range(100, 200)]\n",
    "third = [x/y for x in range(200,300,2) for y in [3,5]]\n",
    "great_array = np.array([first, second, third]).T\n",
    "#Создаём массив great_array\n",
    "great_array = np.array([first,second,third])\n",
    "#Вычисление суммы элементов массива, значение которых больше 50\n",
    "filtered_array = great_array[great_array>50]\n",
    "sum_of_values = np.sum(filtered_array)\n",
    "print(\"Сумма элементов массива, значение которых больше 50: \", sum_of_values)"
   ]
  },
  {
   "cell_type": "markdown",
   "metadata": {},
   "source": [
    "<p style=\"font-size:125%; color:#119988; background-color:#EEE\">Задание 10</p>\n",
    "\n",
    "Переведите массив *great_array* в одномерную форму. Какое значение в получившемся массиве имеет элемент с индексом 150?\n",
    "\n",
    "Алгоритм решения:\n",
    "1) Метод flatten() для массива great_array приведет к тому, что многомерный массив будет преобразован в одномерный массив. Это означает, что все элементы из всех подмассивов будут расположены последовательно в одной строке"
   ]
  },
  {
   "cell_type": "code",
   "execution_count": 7,
   "metadata": {},
   "outputs": [
    {
     "name": "stdout",
     "output_type": "stream",
     "text": [
      "Ответ:  5.313292845913055\n"
     ]
    }
   ],
   "source": [
    "# 10. Ваш код здесь\n",
    "\n",
    "#Переводим в одномерную форму\n",
    "one_dim_array = great_array.flatten()\n",
    "value_at_index_150 = one_dim_array[150]\n",
    "print(\"Ответ: \",value_at_index_150)\n"
   ]
  },
  {
   "cell_type": "markdown",
   "metadata": {},
   "source": [
    "<p style=\"font-size:125%; color:#119988; background-color:#EEE\">Задание 11</p>\n",
    "\n",
    "Получить индексы, для которых элементы массивов A и B совпадают.\n",
    "```\n",
    "A = np.array([1,2,3,2,3,4,3,4,5,6])\n",
    "B = np.array([7,2,10,2,7,4,9,4,9,8])\n",
    "```\n",
    "Ожидается результат:\n",
    "\n",
    "```\n",
    "array([1, 3, 5, 7])\n",
    "```\n",
    "\n",
    "Алгоритм решения:\n",
    "1) np.where-это функиця, которая возвращает индексы элементов, удовлетворяющих условию"
   ]
  },
  {
   "cell_type": "code",
   "execution_count": 8,
   "metadata": {},
   "outputs": [
    {
     "name": "stdout",
     "output_type": "stream",
     "text": [
      "array [1 3 5 7]\n"
     ]
    }
   ],
   "source": [
    "# 11.\n",
    "import numpy as np\n",
    "A = np.array([1,2,3,2,3,4,3,4,5,6])\n",
    "B = np.array([7,2,10,2,7,4,9,4,9,8])\n",
    "\n",
    "# Ваш код здесь\n",
    "indices = np.where (A == B) [0]\n",
    "print(\"array\",indices)"
   ]
  },
  {
   "cell_type": "markdown",
   "metadata": {},
   "source": [
    "<p style=\"font-size:125%; color:#119988; background-color:#EEE\">Задание 12</p>\n",
    "\n",
    "Создайте три массива: массив четных чисел от 2 до 20, массив ближайших к числам первого массива бОльших нечётных чисел, массив векторного произведения первого массива на второй. Соедините все массивы в один двумерный массив, расположив исходные массивы в столбцах.\n",
    "\n",
    "Алгоритм решения: \n",
    "1) array2: каждому значению первого массива прибовляем один, таким образом получаем массив нечетных чисел\n",
    "2) array3: это массив,в котором каждый элемент получен путем умножения соответствующих элементов массивов array1 и array2\n",
    "3) np.column_stack-этот метод используется для объединения массивов array1, array2 и array3 в один двумерный массив,в котором исходные массивы расположены в столбцах"
   ]
  },
  {
   "cell_type": "code",
   "execution_count": 11,
   "metadata": {},
   "outputs": [
    {
     "name": "stdout",
     "output_type": "stream",
     "text": [
      "[[  2   3   6]\n",
      " [  4   5  20]\n",
      " [  6   7  42]\n",
      " [  8   9  72]\n",
      " [ 10  11 110]\n",
      " [ 12  13 156]\n",
      " [ 14  15 210]\n",
      " [ 16  17 272]\n",
      " [ 18  19 342]\n",
      " [ 20  21 420]]\n"
     ]
    }
   ],
   "source": [
    "# 12.  Ваш код здесь\n",
    "import numpy as np\n",
    "array1 = np.array ([2, 4, 6, 8, 10, 12, 14, 16, 18, 20])\n",
    "array2 = array1 + 1\n",
    "array3 = np.multiply(array1,array2)\n",
    "#Соединяем все массивы в один двумерный массив\n",
    "result_array = np.column_stack((array1,array2,array3))\n",
    "print(result_array)"
   ]
  },
  {
   "cell_type": "code",
   "execution_count": null,
   "metadata": {},
   "outputs": [],
   "source": []
  }
 ],
 "metadata": {
  "kernelspec": {
   "display_name": "Python 3 (ipykernel)",
   "language": "python",
   "name": "python3"
  },
  "language_info": {
   "codemirror_mode": {
    "name": "ipython",
    "version": 3
   },
   "file_extension": ".py",
   "mimetype": "text/x-python",
   "name": "python",
   "nbconvert_exporter": "python",
   "pygments_lexer": "ipython3",
   "version": "3.11.4"
  },
  "toc": {
   "base_numbering": 1,
   "nav_menu": {},
   "number_sections": true,
   "sideBar": true,
   "skip_h1_title": false,
   "title_cell": "Table of Contents",
   "title_sidebar": "Contents",
   "toc_cell": true,
   "toc_position": {},
   "toc_section_display": true,
   "toc_window_display": false
  },
  "varInspector": {
   "cols": {
    "lenName": 16,
    "lenType": 16,
    "lenVar": 40
   },
   "kernels_config": {
    "python": {
     "delete_cmd_postfix": "",
     "delete_cmd_prefix": "del ",
     "library": "var_list.py",
     "varRefreshCmd": "print(var_dic_list())"
    },
    "r": {
     "delete_cmd_postfix": ") ",
     "delete_cmd_prefix": "rm(",
     "library": "var_list.r",
     "varRefreshCmd": "cat(var_dic_list()) "
    }
   },
   "types_to_exclude": [
    "module",
    "function",
    "builtin_function_or_method",
    "instance",
    "_Feature"
   ],
   "window_display": false
  }
 },
 "nbformat": 4,
 "nbformat_minor": 4
}
